{
 "cells": [
  {
   "cell_type": "code",
   "execution_count": 3,
   "id": "26fbd394",
   "metadata": {},
   "outputs": [
    {
     "name": "stderr",
     "output_type": "stream",
     "text": [
      "Unable to create process using 'C:\\Users\\ramez kamal\\.anaconda\\python.exe \"C:\\Users\\ramez kamal\\.anaconda\\Scripts\\pip-script.py\" install cvzone'\n",
      "Unable to create process using 'C:\\Users\\ramez kamal\\.anaconda\\python.exe \"C:\\Users\\ramez kamal\\.anaconda\\Scripts\\pip-script.py\" install pygame'\n",
      "Unable to create process using 'C:\\Users\\ramez kamal\\.anaconda\\python.exe \"C:\\Users\\ramez kamal\\.anaconda\\Scripts\\pip-script.py\" install pyserial'\n"
     ]
    }
   ],
   "source": [
    "!pip install cvzone\n",
    "!pip install pygame\n",
    "!pip install pyserial"
   ]
  },
  {
   "cell_type": "code",
   "execution_count": 6,
   "id": "0e7a2e67",
   "metadata": {},
   "outputs": [
    {
     "name": "stdout",
     "output_type": "stream",
     "text": [
      "\n",
      "0: 480x640 (no detections), 988.9ms\n",
      "Speed: 72.2ms preprocess, 988.9ms inference, 3291.5ms postprocess per image at shape (1, 3, 480, 640)\n",
      "\n",
      "0: 480x640 1 person, 602.9ms\n",
      "Speed: 16.2ms preprocess, 602.9ms inference, 13.8ms postprocess per image at shape (1, 3, 480, 640)\n",
      "\n",
      "0: 480x640 1 person, 509.1ms\n",
      "Speed: 61.7ms preprocess, 509.1ms inference, 4.4ms postprocess per image at shape (1, 3, 480, 640)\n",
      "\n",
      "0: 480x640 1 person, 523.2ms\n",
      "Speed: 167.0ms preprocess, 523.2ms inference, 2.8ms postprocess per image at shape (1, 3, 480, 640)\n",
      "\n",
      "0: 480x640 1 person, 522.6ms\n",
      "Speed: 55.8ms preprocess, 522.6ms inference, 5.0ms postprocess per image at shape (1, 3, 480, 640)\n",
      "\n",
      "0: 480x640 1 person, 570.2ms\n",
      "Speed: 16.0ms preprocess, 570.2ms inference, 7.4ms postprocess per image at shape (1, 3, 480, 640)\n",
      "\n",
      "0: 480x640 1 person, 529.6ms\n",
      "Speed: 38.4ms preprocess, 529.6ms inference, 7.2ms postprocess per image at shape (1, 3, 480, 640)\n",
      "\n",
      "0: 480x640 (no detections), 598.6ms\n",
      "Speed: 17.0ms preprocess, 598.6ms inference, 3.3ms postprocess per image at shape (1, 3, 480, 640)\n",
      "\n",
      "0: 480x640 (no detections), 651.1ms\n",
      "Speed: 20.6ms preprocess, 651.1ms inference, 5.3ms postprocess per image at shape (1, 3, 480, 640)\n",
      "\n",
      "0: 480x640 (no detections), 604.1ms\n",
      "Speed: 18.3ms preprocess, 604.1ms inference, 4.4ms postprocess per image at shape (1, 3, 480, 640)\n",
      "\n",
      "0: 480x640 (no detections), 635.5ms\n",
      "Speed: 21.0ms preprocess, 635.5ms inference, 3.0ms postprocess per image at shape (1, 3, 480, 640)\n",
      "\n",
      "0: 480x640 1 bird, 2337.8ms\n",
      "Speed: 27.0ms preprocess, 2337.8ms inference, 11.1ms postprocess per image at shape (1, 3, 480, 640)\n",
      "\n",
      "0: 480x640 (no detections), 1262.5ms\n",
      "Speed: 65.8ms preprocess, 1262.5ms inference, 4.7ms postprocess per image at shape (1, 3, 480, 640)\n",
      "\n",
      "0: 480x640 1 person, 685.1ms\n"
     ]
    },
    {
     "ename": "NameError",
     "evalue": "name 'cvzone' is not defined",
     "output_type": "error",
     "traceback": [
      "\u001b[1;31m---------------------------------------------------------------------------\u001b[0m",
      "\u001b[1;31mNameError\u001b[0m                                 Traceback (most recent call last)",
      "Cell \u001b[1;32mIn[6], line 43\u001b[0m\n\u001b[0;32m     41\u001b[0m             x1, y1, x2, y2 \u001b[38;5;241m=\u001b[39m \u001b[38;5;28mint\u001b[39m(x1), \u001b[38;5;28mint\u001b[39m(y1), \u001b[38;5;28mint\u001b[39m(x2), \u001b[38;5;28mint\u001b[39m(y2)\n\u001b[0;32m     42\u001b[0m             cv2\u001b[38;5;241m.\u001b[39mrectangle(frame, (x1, y1), (x2, y2), (\u001b[38;5;241m0\u001b[39m, \u001b[38;5;241m0\u001b[39m, \u001b[38;5;241m255\u001b[39m), \u001b[38;5;241m5\u001b[39m)\n\u001b[1;32m---> 43\u001b[0m             cvzone\u001b[38;5;241m.\u001b[39mputTextRect(frame, \u001b[38;5;124mf\u001b[39m\u001b[38;5;124m'\u001b[39m\u001b[38;5;132;01m{\u001b[39;00mclassnames[Class]\u001b[38;5;132;01m}\u001b[39;00m\u001b[38;5;124m \u001b[39m\u001b[38;5;132;01m{\u001b[39;00mconfidence\u001b[38;5;132;01m}\u001b[39;00m\u001b[38;5;124m%\u001b[39m\u001b[38;5;124m'\u001b[39m, [x1 \u001b[38;5;241m+\u001b[39m \u001b[38;5;241m8\u001b[39m, y1 \u001b[38;5;241m+\u001b[39m \u001b[38;5;241m100\u001b[39m],\n\u001b[0;32m     44\u001b[0m                                scale\u001b[38;5;241m=\u001b[39m\u001b[38;5;241m1.5\u001b[39m, thickness\u001b[38;5;241m=\u001b[39m\u001b[38;5;241m2\u001b[39m)\n\u001b[0;32m     46\u001b[0m             \u001b[38;5;66;03m# Send message to Arduino\u001b[39;00m\n\u001b[0;32m     47\u001b[0m         \u001b[38;5;66;03m#     ser.write(b'1')  # Send '1' to Arduino\u001b[39;00m\n\u001b[0;32m     48\u001b[0m \n\u001b[1;32m   (...)\u001b[0m\n\u001b[0;32m     57\u001b[0m         \u001b[38;5;66;03m#     fire_sound.stop()\u001b[39;00m\n\u001b[0;32m     58\u001b[0m         \u001b[38;5;66;03m#     ser.write(b'0')\u001b[39;00m\n\u001b[0;32m     60\u001b[0m cv2\u001b[38;5;241m.\u001b[39mimshow(\u001b[38;5;124m'\u001b[39m\u001b[38;5;124mCommanDo\u001b[39m\u001b[38;5;124m'\u001b[39m, frame)\n",
      "\u001b[1;31mNameError\u001b[0m: name 'cvzone' is not defined"
     ]
    }
   ],
   "source": [
    "# import cvzone\n",
    "from ultralytics import YOLO\n",
    "import cv2\n",
    "import math\n",
    "# import pygame\n",
    "# import serial  # Import the serial library for communication\n",
    "\n",
    "# # Initialize Pygame\n",
    "# pygame.init()\n",
    "# pygame.mixer.init()\n",
    "\n",
    "# Load the sound file (replace 'fire_alert.wav' with the path to your sound file)\n",
    "# fire_sound = pygame.mixer.Sound(r\"C:\\Users\\abdel\\Desktop\\fire-alarm-33770.mp3\")\n",
    "\n",
    "# Running real-time from webcam\n",
    "cap = cv2.VideoCapture(0)  # 0 corresponds to the default camera\n",
    "# Initialize serial communication with Arduino\n",
    "ser = serial.Serial('COM12', 9600)\n",
    "\n",
    "model = YOLO(r\"C:\\Users\\ramez kamal\\Downloads\\yolov8n.pt\")\n",
    "\n",
    "# Reading the classes\n",
    "\n",
    "\n",
    "while True:\n",
    "    ret, frame = cap.read()\n",
    "    frame = cv2.resize(frame, (640, 480))\n",
    "    result = model(frame, stream=True)\n",
    "\n",
    "    # Getting bbox, confidence, and class names information to work with\n",
    "    for info in result:\n",
    "        boxes = info.boxes\n",
    "        for box in boxes:\n",
    "            confidence = box.conf[0]\n",
    "            confidence = math.ceil(confidence * 100)\n",
    "            Class = int(box.cls[0])\n",
    "            if confidence > 50:\n",
    "                \n",
    "                x1, y1, x2, y2 = box.xyxy[0]\n",
    "                \n",
    "                x1, y1, x2, y2 = int(x1), int(y1), int(x2), int(y2)\n",
    "                cv2.rectangle(frame, (x1, y1), (x2, y2), (0, 0, 255), 5)\n",
    "                cvzone.putTextRect(frame, f'{classnames[Class]} {confidence}%', [x1 + 8, y1 + 100],\n",
    "                                   scale=1.5, thickness=2)\n",
    "\n",
    "                Send message to Arduino\n",
    "                ser.write(b'1')  # Send '1' to Arduino\n",
    "\n",
    "                # Read data from Arduino\n",
    "                if ser.in_waiting > 0:\n",
    "                    # arduino_data = ser.readline().decode().strip()\n",
    "                    # print(\"Data from Arduino:\", arduino_data)\n",
    "\n",
    "                # Play the fire alert sound\n",
    "                fire_sound.play()\n",
    "            else:\n",
    "                fire_sound.stop()\n",
    "                ser.write(b'0')\n",
    "\n",
    "    cv2.imshow('CommanDo', frame)\n",
    "    if cv2.waitKey(1) == ord('q'):  # Press 'q' to exit the loop\n",
    "        break\n",
    "\n",
    "# Release the camera and close all OpenCV windows\n",
    "cap.release()\n",
    "cv2.destroyAllWindows()\n"
   ]
  },
  {
   "cell_type": "code",
   "execution_count": null,
   "id": "e0fa98fd",
   "metadata": {},
   "outputs": [],
   "source": []
  },
  {
   "cell_type": "code",
   "execution_count": null,
   "id": "e04fb88f",
   "metadata": {},
   "outputs": [],
   "source": []
  }
 ],
 "metadata": {
  "kernelspec": {
   "display_name": "Python 3 (ipykernel)",
   "language": "python",
   "name": "python3"
  },
  "language_info": {
   "codemirror_mode": {
    "name": "ipython",
    "version": 3
   },
   "file_extension": ".py",
   "mimetype": "text/x-python",
   "name": "python",
   "nbconvert_exporter": "python",
   "pygments_lexer": "ipython3",
   "version": "3.11.7"
  }
 },
 "nbformat": 4,
 "nbformat_minor": 5
}
