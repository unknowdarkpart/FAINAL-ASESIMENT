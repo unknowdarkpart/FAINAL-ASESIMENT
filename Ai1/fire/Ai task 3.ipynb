{
 "cells": [
  {
   "cell_type": "code",
   "execution_count": 6,
   "id": "26fbd394",
   "metadata": {},
   "outputs": [
    {
     "name": "stdout",
     "output_type": "stream",
     "text": [
      "Collecting pyserial\n",
      "  Using cached pyserial-3.5-py2.py3-none-any.whl.metadata (1.6 kB)\n",
      "Using cached pyserial-3.5-py2.py3-none-any.whl (90 kB)\n",
      "Installing collected packages: pyserial\n",
      "Successfully installed pyserial-3.5\n",
      "Note: you may need to restart the kernel to use updated packages.\n"
     ]
    }
   ],
   "source": [
    "pip install pyserial"
   ]
  },
  {
   "cell_type": "code",
   "execution_count": 1,
   "id": "0e7a2e67",
   "metadata": {},
   "outputs": [
    {
     "name": "stdout",
     "output_type": "stream",
     "text": [
      "\n",
      "0: 480x640 1 person, 1 toothbrush, 722.0ms\n"
     ]
    },
    {
     "ename": "NameError",
     "evalue": "name 'classnames' is not defined",
     "output_type": "error",
     "traceback": [
      "\u001b[1;31m---------------------------------------------------------------------------\u001b[0m",
      "\u001b[1;31mNameError\u001b[0m                                 Traceback (most recent call last)",
      "Cell \u001b[1;32mIn[1], line 25\u001b[0m\n\u001b[0;32m     23\u001b[0m     x1, y1, x2, y2 \u001b[38;5;241m=\u001b[39m \u001b[38;5;28mint\u001b[39m(x1), \u001b[38;5;28mint\u001b[39m(y1), \u001b[38;5;28mint\u001b[39m(x2), \u001b[38;5;28mint\u001b[39m(y2)\n\u001b[0;32m     24\u001b[0m     cv2\u001b[38;5;241m.\u001b[39mrectangle(frame, (x1, y1), (x2, y2), (\u001b[38;5;241m0\u001b[39m, \u001b[38;5;241m0\u001b[39m, \u001b[38;5;241m255\u001b[39m), \u001b[38;5;241m5\u001b[39m)\n\u001b[1;32m---> 25\u001b[0m     cvzone\u001b[38;5;241m.\u001b[39mputTextRect(frame, \u001b[38;5;124mf\u001b[39m\u001b[38;5;124m'\u001b[39m\u001b[38;5;132;01m{\u001b[39;00mclassnames[Class]\u001b[38;5;132;01m}\u001b[39;00m\u001b[38;5;124m \u001b[39m\u001b[38;5;132;01m{\u001b[39;00mconfidence\u001b[38;5;132;01m}\u001b[39;00m\u001b[38;5;124m%\u001b[39m\u001b[38;5;124m'\u001b[39m, [x1 \u001b[38;5;241m+\u001b[39m \u001b[38;5;241m8\u001b[39m, y1 \u001b[38;5;241m+\u001b[39m \u001b[38;5;241m100\u001b[39m],\n\u001b[0;32m     26\u001b[0m                        scale\u001b[38;5;241m=\u001b[39m\u001b[38;5;241m1.5\u001b[39m, thickness\u001b[38;5;241m=\u001b[39m\u001b[38;5;241m2\u001b[39m)\n\u001b[0;32m     27\u001b[0m     \u001b[38;5;66;03m# ser.write(b'1') \u001b[39;00m\n\u001b[0;32m     28\u001b[0m \u001b[38;5;28;01melse\u001b[39;00m:\n\u001b[0;32m     29\u001b[0m     \u001b[38;5;66;03m# ser.write(b'0')\u001b[39;00m\n\u001b[0;32m     30\u001b[0m     cv2\u001b[38;5;241m.\u001b[39mimshow(\u001b[38;5;124m'\u001b[39m\u001b[38;5;124mCommanDo\u001b[39m\u001b[38;5;124m'\u001b[39m, frame)\n",
      "\u001b[1;31mNameError\u001b[0m: name 'classnames' is not defined"
     ]
    }
   ],
   "source": [
    "import cvzone\n",
    "from ultralytics import YOLO\n",
    "import cv2\n",
    "import math\n",
    "import serial \n",
    "cap = cv2.VideoCapture(0)  \n",
    "# ser = serial.Serial('COM12', 9600)\n",
    "model = YOLO(r\"C:\\Users\\ramez kamal\\Downloads\\yolov8n.pt\")\n",
    "Classname=['fire']\n",
    "while True:\n",
    "    ret, frame = cap.read()\n",
    "    frame = cv2.resize(frame, (640, 480))\n",
    "    result = model(frame, stream=True)\n",
    "\n",
    "    for info in result:\n",
    "        boxes = info.boxes\n",
    "        for box in boxes:\n",
    "            confidence = box.conf[0]\n",
    "            confidence = math.ceil(confidence * 100)\n",
    "            Class = int(box.cls[0])\n",
    "            if confidence > 50:\n",
    "                x1, y1, x2, y2 = box.xyxy[0]\n",
    "                x1, y1, x2, y2 = int(x1), int(y1), int(x2), int(y2)\n",
    "                cv2.rectangle(frame, (x1, y1), (x2, y2), (0, 0, 255), 5)\n",
    "                cvzone.putTextRect(frame, f'{classnames[Class]} {confidence}%', [x1 + 8, y1 + 100],\n",
    "                                   scale=1.5, thickness=2)\n",
    "                # ser.write(b'1') \n",
    "            else:\n",
    "                # ser.write(b'0')\n",
    "                cv2.imshow('CommanDo', frame)\n",
    "    if cv2.waitKey(1) == ord('q'): \n",
    "        break\n",
    "cap.release()\n",
    "cv2.destroyAllWindows()\n"
   ]
  },
  {
   "cell_type": "code",
   "execution_count": null,
   "id": "e0fa98fd",
   "metadata": {},
   "outputs": [],
   "source": []
  },
  {
   "cell_type": "code",
   "execution_count": null,
   "id": "e04fb88f",
   "metadata": {},
   "outputs": [],
   "source": []
  }
 ],
 "metadata": {
  "kernelspec": {
   "display_name": "Python 3 (ipykernel)",
   "language": "python",
   "name": "python3"
  },
  "language_info": {
   "codemirror_mode": {
    "name": "ipython",
    "version": 3
   },
   "file_extension": ".py",
   "mimetype": "text/x-python",
   "name": "python",
   "nbconvert_exporter": "python",
   "pygments_lexer": "ipython3",
   "version": "3.11.7"
  }
 },
 "nbformat": 4,
 "nbformat_minor": 5
}
