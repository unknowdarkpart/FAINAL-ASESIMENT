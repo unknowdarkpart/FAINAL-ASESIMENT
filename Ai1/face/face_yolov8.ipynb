{
 "cells": [
  {
   "cell_type": "code",
   "execution_count": null,
   "id": "6dd1c420-2267-4f12-8160-a03095b88db7",
   "metadata": {
    "scrolled": true
   },
   "outputs": [],
   "source": []
  },
  {
   "cell_type": "code",
   "execution_count": 2,
   "id": "a2c874ab-fd79-408a-932d-5f7315140710",
   "metadata": {},
   "outputs": [
    {
     "name": "stdout",
     "output_type": "stream",
     "text": [
      "\n",
      "0: 480x640 1 face, 780.2ms\n",
      "Speed: 12.1ms preprocess, 780.2ms inference, 10.1ms postprocess per image at shape (1, 3, 480, 640)\n",
      "\n",
      "0: 480x640 1 face, 706.3ms\n",
      "Speed: 8.0ms preprocess, 706.3ms inference, 3.0ms postprocess per image at shape (1, 3, 480, 640)\n",
      "\n",
      "0: 480x640 1 face, 582.7ms\n",
      "Speed: 11.3ms preprocess, 582.7ms inference, 3.0ms postprocess per image at shape (1, 3, 480, 640)\n",
      "\n",
      "0: 480x640 1 face, 718.8ms\n",
      "Speed: 6.7ms preprocess, 718.8ms inference, 5.0ms postprocess per image at shape (1, 3, 480, 640)\n",
      "\n",
      "0: 480x640 1 face, 654.2ms\n",
      "Speed: 10.9ms preprocess, 654.2ms inference, 3.0ms postprocess per image at shape (1, 3, 480, 640)\n",
      "\n",
      "0: 480x640 1 face, 583.5ms\n",
      "Speed: 0.0ms preprocess, 583.5ms inference, 3.0ms postprocess per image at shape (1, 3, 480, 640)\n"
     ]
    }
   ],
   "source": [
    "from ultralytics import YOLO\n",
    "import cv2\n",
    "\n",
    "model = YOLO(r\"C:\\Users\\ramez kamal\\Desktop\\Ai1\\face\\yolov8n-face.pt\")\n",
    "\n",
    "\n",
    "\n",
    "cap = cv2.VideoCapture(0)\n",
    "\n",
    "while True:\n",
    "    ret, frame = cap.read()\n",
    "\n",
    "    if not ret:\n",
    "        print(\"Please OFF\")\n",
    "        break\n",
    "\n",
    "    result = model(frame)\n",
    "    frame2 = result[0].plot()\n",
    "\n",
    "    cv2.imshow(\"Camera Video\", frame2)\n",
    "\n",
    "    if cv2.waitKey(1) == ord('q'):\n",
    "        break\n",
    "\n",
    "cap.release()\n",
    "cv2.destroyAllWindows()\n"
   ]
  },
  {
   "cell_type": "code",
   "execution_count": null,
   "id": "c23b8a7c-a112-41e7-8ac6-4270e0d02144",
   "metadata": {},
   "outputs": [],
   "source": []
  },
  {
   "cell_type": "code",
   "execution_count": 13,
   "id": "2fae5612-da4d-4730-ba5e-1398530cc30d",
   "metadata": {},
   "outputs": [],
   "source": [
    "import cv2 \n",
    "import numpy as np \n",
    "\n",
    "\n",
    "\n",
    "# Load the pre-trained MobileNet SSD model and its configuration\n",
    "net = cv2.dnn.readNetFromCaffe(r\"E:\\AHMED DEIF-ALLAH SCHOOL\\GRade 2 Training\\MobileNetSSD_deploy.prototxt\", r\"E:\\AHMED DEIF-ALLAH SCHOOL\\GRade 2 Training\\MobileNetSSD_deploy.caffemodel\")\n",
    "\n",
    "# List of class labels for MobileNet SSD\n",
    "classes = [\"background\", \"aeroplane\", \"bicycle\", \"bird\", \"boat\", \"bottle\", \"bus\", \"car\", \"cat\", \"chair\", \"cow\", \"diningtable\",\n",
    "           \"dog\", \"horse\", \"motorbike\", \"person\", \"pottedplant\", \"sheep\", \"sofa\", \"train\", \"tvmonitor\"]\n",
    "\n",
    "cap = cv2.VideoCapture(1)  \n",
    "\n",
    "if not cap.isOpened():\n",
    "    print(\"Error: Couldn't open camera.\")\n",
    "    exit()\n",
    "\n",
    "while cap.isOpened():\n",
    "    ret, frame = cap.read()\n",
    "\n",
    "    if not ret:\n",
    "        print(\"Error: Couldn't read frame.\")\n",
    "        break\n",
    "\n",
    "    # Resize the frame for processing\n",
    "    resized_frame = cv2.resize(frame, (300, 300))\n",
    "    \n",
    "    # Preprocess the frame for the MobileNet SSD model\n",
    "    blob = cv2.dnn.blobFromImage(resized_frame, 0.007843, (300, 300), 127.5)\n",
    "\n",
    "\n",
    "    # Set the input to the pre-trained model\n",
    "    net.setInput(blob)\n",
    "\n",
    "    # Run forward pass to get detection\n",
    "    detections = net.forward()\n",
    "\n",
    "    frame_height, frame_width = frame.shape[:2]  #height, width, and the number of channels\n",
    "\n",
    "    for i in range(detections.shape[2]):\n",
    "        confidence = detections[0, 0, i, 2]\n",
    "\n",
    "        if confidence > 0.1:  # Confidence threshold\n",
    "            class_id = int(detections[0, 0, i, 1])\n",
    "            class_name = classes[class_id]\n",
    "\n",
    "            # Draw bounding box and label on the frame\n",
    "            box = detections[0, 0, i, 3:7] * np.array([frame_width, frame_height, frame_width, frame_height])\n",
    "            (startX, startY, endX, endY) = box.astype(\"int\")\n",
    "            cv2.rectangle(frame, (startX, startY), (endX, endY), (0, 255, 0), 2)\n",
    "            y = startY - 15 if startY - 15 > 15 else startY + 15\n",
    "            cv2.putText(frame, class_name, (startX, y), cv2.FONT_HERSHEY_SIMPLEX, 0.5, (0, 255, 0), 2)\n",
    "\n",
    "    cv2.imshow(\"Object Detection\", frame)\n",
    "\n",
    "    if cv2.waitKey(1) & 0xFF == ord('q'):\n",
    "        break\n",
    "\n",
    "cap.release()\n",
    "cv2.destroyAllWindows()"
   ]
  },
  {
   "cell_type": "code",
   "execution_count": null,
   "id": "fa9d3af5-64e5-460b-bec8-19c15aabab24",
   "metadata": {},
   "outputs": [],
   "source": [
    "!pip install ultralytics\n",
    "!pip install opencv-python "
   ]
  }
 ],
 "metadata": {
  "kernelspec": {
   "display_name": "Python 3 (ipykernel)",
   "language": "python",
   "name": "python3"
  },
  "language_info": {
   "codemirror_mode": {
    "name": "ipython",
    "version": 3
   },
   "file_extension": ".py",
   "mimetype": "text/x-python",
   "name": "python",
   "nbconvert_exporter": "python",
   "pygments_lexer": "ipython3",
   "version": "3.11.7"
  }
 },
 "nbformat": 4,
 "nbformat_minor": 5
}
